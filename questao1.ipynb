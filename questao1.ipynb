{
 "cells": [
  {
   "cell_type": "markdown",
   "id": "4c97e7a3",
   "metadata": {},
   "source": [
    "# Questão 1: Compensador PD (Proporcional-Derivativo)\n",
    "\n",
    "## Objetivo\n",
    "Projetar um compensador PD para o sistema $G(s) = \\frac{K}{s(s+4)(s+6)}$ de modo que:\n",
    "- Mantenha 16% de sobressinal\n",
    "- Reduza o tempo de acomodação em 3 vezes\n",
    "\n",
    "## Dados do Problema\n",
    "- Sistema: $G(s) = \\frac{K}{s(s+4)(s+6)}$\n",
    "- Pólos dominantes não compensados (16% sobressinal): $-1.2 \\pm 2.08j$\n",
    "- Objetivo: 16% sobressinal com redução de 3x no tempo de acomodação"
   ]
  },
  {
   "cell_type": "code",
   "execution_count": 52,
   "id": "2bb57cda",
   "metadata": {},
   "outputs": [
    {
     "name": "stdout",
     "output_type": "stream",
     "text": [
      "Requirement already satisfied: numpy in ./.venv/lib/python3.10/site-packages (2.2.6)\n",
      "Requirement already satisfied: matplotlib in ./.venv/lib/python3.10/site-packages (3.10.3)\n",
      "Requirement already satisfied: scipy in ./.venv/lib/python3.10/site-packages (1.15.3)\n",
      "Requirement already satisfied: pandas in ./.venv/lib/python3.10/site-packages (2.3.1)\n",
      "Requirement already satisfied: contourpy>=1.0.1 in ./.venv/lib/python3.10/site-packages (from matplotlib) (1.3.2)\n",
      "Requirement already satisfied: cycler>=0.10 in ./.venv/lib/python3.10/site-packages (from matplotlib) (0.12.1)\n",
      "Requirement already satisfied: fonttools>=4.22.0 in ./.venv/lib/python3.10/site-packages (from matplotlib) (4.59.0)\n",
      "Requirement already satisfied: kiwisolver>=1.3.1 in ./.venv/lib/python3.10/site-packages (from matplotlib) (1.4.8)\n",
      "Requirement already satisfied: packaging>=20.0 in ./.venv/lib/python3.10/site-packages (from matplotlib) (25.0)\n",
      "Requirement already satisfied: pillow>=8 in ./.venv/lib/python3.10/site-packages (from matplotlib) (11.3.0)\n",
      "Requirement already satisfied: pyparsing>=2.3.1 in ./.venv/lib/python3.10/site-packages (from matplotlib) (3.2.3)\n",
      "Requirement already satisfied: python-dateutil>=2.7 in ./.venv/lib/python3.10/site-packages (from matplotlib) (2.9.0.post0)\n",
      "Requirement already satisfied: pytz>=2020.1 in ./.venv/lib/python3.10/site-packages (from pandas) (2025.2)\n",
      "Requirement already satisfied: tzdata>=2022.7 in ./.venv/lib/python3.10/site-packages (from pandas) (2025.2)\n",
      "Requirement already satisfied: six>=1.5 in ./.venv/lib/python3.10/site-packages (from python-dateutil>=2.7->matplotlib) (1.17.0)\n"
     ]
    }
   ],
   "source": [
    "!pip install numpy matplotlib scipy pandas"
   ]
  },
  {
   "cell_type": "code",
   "execution_count": null,
   "id": "6cc3f812",
   "metadata": {},
   "outputs": [
    {
     "name": "stdout",
     "output_type": "stream",
     "text": [
      "QUESTÃO 1: Compensador Derivativo Ideal\n",
      "--------------------------------------------------\n"
     ]
    }
   ],
   "source": [
    "import numpy as np\n",
    "import matplotlib.pyplot as plt\n",
    "from scipy import signal\n",
    "import pandas as pd\n",
    "\n",
    "# Configuração para gráficos\n",
    "plt.rcParams['font.size'] = 12\n",
    "plt.rcParams['figure.figsize'] = (12, 8)\n",
    "\n",
    "print(\"QUESTÃO 1: Compensador PD\")\n",
    "print(\"-\"*50)"
   ]
  },
  {
   "cell_type": "markdown",
   "id": "aafe92c2",
   "metadata": {},
   "source": [
    "## 1. Análise do Sistema Não Compensado\n",
    "\n",
    "### 1.1 Parâmetros do Sistema Original\n",
    "\n",
    "Para um sobressinal de 16%, precisamos calcular o coeficiente de amortecimento:"
   ]
  },
  {
   "cell_type": "code",
   "execution_count": 54,
   "id": "65465bf7",
   "metadata": {},
   "outputs": [
    {
     "name": "stdout",
     "output_type": "stream",
     "text": [
      "Coeficiente de amortecimento para 16% sobressinal: ζ = 0.504\n",
      "Parte real dos pólos: σ = 1.2\n",
      "Frequência amortecida: ωd = 2.08 rad/s\n",
      "Frequência natural: ωn = 2.38 rad/s\n"
     ]
    }
   ],
   "source": [
    "# Cálculo do coeficiente de amortecimento para 16% de sobressinal\n",
    "Mp = 0.16  # 16% de sobressinal\n",
    "zeta_nc = np.sqrt((np.log(Mp))**2 / (np.pi**2 + (np.log(Mp))**2))\n",
    "\n",
    "print(f\"Coeficiente de amortecimento para 16% sobressinal: ζ = {zeta_nc:.3f}\")\n",
    "\n",
    "# Dos pólos dominantes dados: -1.2 ± 2.08j\n",
    "sigma_nc = 1.2\n",
    "wd_nc = 2.08\n",
    "wn_nc = sigma_nc / zeta_nc\n",
    "\n",
    "print(f\"Parte real dos pólos: σ = {sigma_nc}\")\n",
    "print(f\"Frequência amortecida: ωd = {wd_nc:.2f} rad/s\")\n",
    "print(f\"Frequência natural: ωn = {wn_nc:.2f} rad/s\")"
   ]
  },
  {
   "cell_type": "markdown",
   "id": "23b0f809",
   "metadata": {},
   "source": [
    "### 1.2 Tempo de Acomodação Original"
   ]
  },
  {
   "cell_type": "code",
   "execution_count": 55,
   "id": "01ab8078",
   "metadata": {},
   "outputs": [
    {
     "name": "stdout",
     "output_type": "stream",
     "text": [
      "Tempo de acomodação não compensado: ts = 3.333 s\n"
     ]
    }
   ],
   "source": [
    "# Tempo de acomodação não compensado (critério de 2%)\n",
    "ts_nc = 4 / sigma_nc\n",
    "print(f\"Tempo de acomodação não compensado: ts = {ts_nc:.3f} s\")"
   ]
  },
  {
   "cell_type": "markdown",
   "id": "31e7a56f",
   "metadata": {},
   "source": [
    "### 1.3 Determinação do Ganho K\n",
    "\n",
    "Para que os pólos dominantes sejam $-1.2 \\pm 2.08j$, precisamos determinar o ganho $K$:"
   ]
  },
  {
   "cell_type": "code",
   "execution_count": 56,
   "id": "5f1cf57d",
   "metadata": {},
   "outputs": [
    {
     "name": "stdout",
     "output_type": "stream",
     "text": [
      "Pólo adicional necessário: p₃ = 7.6\n",
      "Ganho K necessário: K = 43.776\n",
      "Equação característica: s³ + 10s² + 24s + 43.776 = 0\n"
     ]
    }
   ],
   "source": [
    "# A equação característica em malha fechada é:\n",
    "# s³ + 10s² + 24s + K = 0\n",
    "\n",
    "# O polinômio característico desejado é:\n",
    "# (s² + 2.4s + 5.76)(s + p3)\n",
    "# Expandindo: s³ + (2.4+p3)s² + (5.76+2.4*p3)s + 5.76*p3\n",
    "\n",
    "# Comparando os coeficientes de s² para encontrar p3:\n",
    "# 10 = 2.4 + p3\n",
    "p3 = 10 - 2.4\n",
    "\n",
    "# Usando o valor de p3 para encontrar K\n",
    "K_nc = 5.76 * p3\n",
    "\n",
    "print(f\"Pólo adicional necessário: p₃ = {p3:.1f}\")\n",
    "print(f\"Ganho K necessário: K = {K_nc:.3f}\")\n",
    "print(f\"Equação característica: s³ + 10s² + 24s + {K_nc:.3f} = 0\")"
   ]
  },
  {
   "cell_type": "markdown",
   "id": "9dc2de1d",
   "metadata": {},
   "source": [
    "## 2. Projeto do Sistema Compensado\n",
    "\n",
    "### 2.1 Especificações do Sistema Compensado"
   ]
  },
  {
   "cell_type": "code",
   "execution_count": 57,
   "id": "fd8ba13a",
   "metadata": {},
   "outputs": [
    {
     "name": "stdout",
     "output_type": "stream",
     "text": [
      "Tempo de acomodação desejado: ts = 1.111 s\n",
      "Nova parte real dos pólos: σ = 3.6\n",
      "Frequência natural compensada: ωn = 7.14 rad/s\n",
      "Frequência amortecida compensada: ωd = 6.17 rad/s\n",
      "Pólos dominantes desejados: -3.60+6.17j, -3.60-6.17j\n"
     ]
    }
   ],
   "source": [
    "# Para reduzir o tempo de acomodação em 3 vezes\n",
    "ts_c = ts_nc / 3\n",
    "sigma_c = 4 / ts_c\n",
    "\n",
    "print(f\"Tempo de acomodação desejado: ts = {ts_c:.3f} s\")\n",
    "print(f\"Nova parte real dos pólos: σ = {sigma_c:.1f}\")\n",
    "\n",
    "# Mantendo 16% de sobressinal, ζ permanece o mesmo\n",
    "zeta_c = zeta_nc\n",
    "wn_c = sigma_c / zeta_c\n",
    "wd_c = wn_c * np.sqrt(1 - zeta_c**2)\n",
    "\n",
    "print(f\"Frequência natural compensada: ωn = {wn_c:.2f} rad/s\")\n",
    "print(f\"Frequência amortecida compensada: ωd = {wd_c:.2f} rad/s\")\n",
    "\n",
    "# Pólos dominantes desejados\n",
    "s1_desired = -sigma_c + 1j*wd_c\n",
    "s2_desired = -sigma_c - 1j*wd_c\n",
    "\n",
    "print(f\"Pólos dominantes desejados: {s1_desired:.2f}, {s2_desired:.2f}\")"
   ]
  },
  {
   "cell_type": "markdown",
   "id": "3c647590",
   "metadata": {},
   "source": [
    "### 2.2 Cálculo do Compensador PD (Proporcional-Derivativo)\n",
    "\n",
    "O compensador PD tem a forma: $G_c(s) = s + z_c$ (utilizando método do lugar das raízes)"
   ]
  },
  {
   "cell_type": "code",
   "execution_count": 65,
   "id": "6fe055f2",
   "metadata": {},
   "outputs": [
    {
     "name": "stdout",
     "output_type": "stream",
     "text": [
      "Polo dominante desejado: s = -3.600+6.171j\n",
      "=== PROJETO DO COMPENSADOR PD ===\n",
      "Polo dominante desejado: s = (-3.5999999999999996+6.171476562788452j)\n",
      "\n",
      "Fases dos pólos da planta no polo desejado:\n",
      "∠(s - 0) = ∠(-3.600+6.171j) = 120.3°\n",
      "∠(s - (-4)) = ∠(0.400+6.171j) = 86.3°\n",
      "∠(s - (-6)) = ∠(2.400+6.171j) = 68.7°\n",
      "Contribuição angular total dos pólos: 275.3°\n",
      "Fase requerida do zero: 455.3°\n",
      "Fase requerida do zero (normalizada): 95.3°\n",
      "\n",
      "Posição do zero do compensador: zc = 3.028\n",
      "Verificação - Fase do zero: ∠(s+3.028) = 95.3°\n",
      "Verificação da condição: 95.3° - 275.3° = -180.0°\n",
      "Condição normalizada: -180.0° (deve ser ≈ ±180°)\n",
      "\n",
      "Compensador PD: Gc(s) = K(s + 3.028)\n",
      "\n",
      "Cálculo do ganho K:\n",
      "|s + 3.028| = 6.198\n",
      "|s(s+4)(s+6)| = 292.587\n",
      "K = 292.587 / 6.198 = 47.207\n",
      "\n",
      "=== RESULTADO FINAL ===\n",
      "Compensador PD: Gc(s) = 47.207(s + 3.028)\n",
      "                      = 47.207s + 142.932\n"
     ]
    }
   ],
   "source": [
    "# Método do Lugar das Raízes para Compensador PD\n",
    "# Baseado no algoritmo MATLAB fornecido\n",
    "\n",
    "s_des = s1_desired\n",
    "print(f\"Polo dominante desejado: s = {s_des:.3f}\")\n",
    "\n",
    "# Implementação do algoritmo MATLAB para compensador PD\n",
    "# Seguindo exatamente a metodologia do lugar geométrico das raízes\n",
    "\n",
    "print(\"=== PROJETO DO COMPENSADOR PD ===\")\n",
    "print(f\"Polo dominante desejado: s = {s_des}\")\n",
    "\n",
    "# Passo 1: Calcular as fases dos pólos da planta no polo desejado\n",
    "# Para o lugar das raízes, usamos ângulos de (s - polo)\n",
    "phase_p1 = np.angle(s_des - 0) * 180/np.pi  # polo em s=0\n",
    "phase_p2 = np.angle(s_des - (-4)) * 180/np.pi  # polo em s=-4  \n",
    "phase_p3 = np.angle(s_des - (-6)) * 180/np.pi  # polo em s=-6\n",
    "\n",
    "print(f\"\\nFases dos pólos da planta no polo desejado:\")\n",
    "print(f\"∠(s - 0) = ∠({s_des:.3f}) = {phase_p1:.1f}°\")\n",
    "print(f\"∠(s - (-4)) = ∠({s_des + 4:.3f}) = {phase_p2:.1f}°\")\n",
    "print(f\"∠(s - (-6)) = ∠({s_des + 6:.3f}) = {phase_p3:.1f}°\")\n",
    "\n",
    "# Passo 2: Calcular a contribuição angular total dos pólos\n",
    "total_pole_phase = phase_p1 + phase_p2 + phase_p3\n",
    "print(f\"Contribuição angular total dos pólos: {total_pole_phase:.1f}°\")\n",
    "\n",
    "# Passo 3: Para o lugar das raízes, a condição é:\n",
    "# ∠(zeros) - ∠(pólos) = ±180°(2k+1)\n",
    "# Precisamos que: ∠(zero) - total_pole_phase = 180° (ou -180°)\n",
    "# Portanto: ∠(zero) = 180° + total_pole_phase\n",
    "\n",
    "required_zero_phase = 180 + total_pole_phase\n",
    "print(f\"Fase requerida do zero: {required_zero_phase:.1f}°\")\n",
    "\n",
    "# Ajustar para o intervalo [-180°, 180°]\n",
    "while required_zero_phase > 180:\n",
    "    required_zero_phase -= 360\n",
    "while required_zero_phase < -180:\n",
    "    required_zero_phase += 360\n",
    "\n",
    "print(f\"Fase requerida do zero (normalizada): {required_zero_phase:.1f}°\")\n",
    "\n",
    "# Passo 4: Calcular a posição do zero do compensador\n",
    "# ∠(s + zc) = required_zero_phase\n",
    "# Para s = -3.6 + 6.171j:\n",
    "# atan(6.171 / (-3.6 + zc)) = required_zero_phase\n",
    "\n",
    "required_zero_phase_rad = required_zero_phase * np.pi / 180\n",
    "zc = -s_des.real + s_des.imag / np.tan(required_zero_phase_rad)\n",
    "\n",
    "print(f\"\\nPosição do zero do compensador: zc = {zc:.3f}\")\n",
    "\n",
    "# Verificação da fase do zero\n",
    "phase_zero = np.angle(s_des + zc) * 180/np.pi\n",
    "print(f\"Verificação - Fase do zero: ∠(s+{zc:.3f}) = {phase_zero:.1f}°\")\n",
    "\n",
    "# Verificação da condição do lugar das raízes\n",
    "condition_check = phase_zero - total_pole_phase\n",
    "print(f\"Verificação da condição: {phase_zero:.1f}° - {total_pole_phase:.1f}° = {condition_check:.1f}°\")\n",
    "\n",
    "# Normalizar para [-180°, 180°]\n",
    "while condition_check > 180:\n",
    "    condition_check -= 360\n",
    "while condition_check < -180:\n",
    "    condition_check += 360\n",
    "\n",
    "print(f\"Condição normalizada: {condition_check:.1f}° (deve ser ≈ ±180°)\")\n",
    "\n",
    "print(f\"\\nCompensador PD: Gc(s) = K(s + {zc:.3f})\")\n",
    "\n",
    "# Passo 5: Calcular o ganho K usando a condição de módulo\n",
    "# |K * (s + zc) / [s(s+4)(s+6)]| = 1 no polo desejado s\n",
    "\n",
    "mag_zero = abs(s_des + zc)\n",
    "mag_poles = abs(s_des) * abs(s_des + 4) * abs(s_des + 6)\n",
    "K_pd = mag_poles / mag_zero\n",
    "\n",
    "print(f\"\\nCálculo do ganho K:\")\n",
    "print(f\"|s + {zc:.3f}| = {mag_zero:.3f}\")\n",
    "print(f\"|s(s+4)(s+6)| = {mag_poles:.3f}\")\n",
    "print(f\"K = {mag_poles:.3f} / {mag_zero:.3f} = {K_pd:.3f}\")\n",
    "\n",
    "print(f\"\\n=== RESULTADO FINAL ===\")\n",
    "print(f\"Compensador PD: Gc(s) = {K_pd:.3f}(s + {zc:.3f})\")\n",
    "print(f\"                      = {K_pd:.3f}s + {K_pd*zc:.3f}\")\n",
    "\n",
    "# Armazenar valores para uso posterior\n",
    "K_comp = K_pd\n",
    "compensador_zero = zc"
   ]
  },
  {
   "cell_type": "markdown",
   "id": "ebbb4e32",
   "metadata": {},
   "source": [
    "## 3. Simulação e Comparação\n",
    "\n",
    "### 3.1 Funções de Transferência"
   ]
  },
  {
   "cell_type": "code",
   "execution_count": 66,
   "id": "5c79117e",
   "metadata": {},
   "outputs": [
    {
     "name": "stdout",
     "output_type": "stream",
     "text": [
      "Sistema não compensado:\n",
      "T(s) = 43.775999999999996 / (s³ + 10s² + 24s + 43.775999999999996)\n",
      "\n",
      "Compensador PD: Gc(s) = 47.207(s + 3.028)\n",
      "               Gc(s) = 47.207s + 142.932\n",
      "\n",
      "Malha aberta compensada GcG(s):\n",
      "Numerador: 47.207s + 142.932\n",
      "Denominador: s³ + 10s² + 24s\n",
      "\n",
      "Sistema compensado em malha fechada:\n",
      "Numerador: 47.207s + 142.932\n",
      "Denominador: s³ + 10s² + 71.207s + 142.932\n",
      "\n",
      "Pólos do sistema compensado:\n",
      "  p1 = -3.6000 + 6.1715j\n",
      "  p2 = -3.6000 - 6.1715j\n",
      "  p3 = -2.8000\n",
      "\n",
      "Polo dominante obtido: -3.6000+6.1715j\n",
      "Polo dominante desejado: -3.6000+6.1715j\n",
      "Erro: 0.000000\n",
      "✓ Polo dominante atingido com sucesso!\n"
     ]
    }
   ],
   "source": [
    "# Sistema não compensado em malha fechada\n",
    "num_nc = [K_nc]\n",
    "den_nc = [1, 10, 24, K_nc]\n",
    "sys_nc = signal.TransferFunction(num_nc, den_nc)\n",
    "\n",
    "print(\"Sistema não compensado:\")\n",
    "print(f\"T(s) = {K_nc} / (s³ + 10s² + 24s + {K_nc})\")\n",
    "\n",
    "# Sistema compensado com PD em malha fechada\n",
    "# Gc(s) = K(s + zc) onde K e zc foram calculados pelo algoritmo\n",
    "# G(s) = 1 / [s(s+4)(s+6)]\n",
    "# Malha fechada: T(s) = Gc(s)*G(s) / (1 + Gc(s)*G(s))\n",
    "\n",
    "print(f\"\\nCompensador PD: Gc(s) = {K_comp:.3f}(s + {compensador_zero:.3f})\")\n",
    "print(f\"               Gc(s) = {K_comp:.3f}s + {K_comp*compensador_zero:.3f}\")\n",
    "\n",
    "# Função de transferência em malha aberta compensada\n",
    "# GcG(s) = K(s + zc) / [s(s+4)(s+6)]\n",
    "num_ma = [K_comp, K_comp*compensador_zero]  # K(s + zc)\n",
    "den_ma = [1, 10, 24, 0]  # s(s+4)(s+6) = s³ + 10s² + 24s\n",
    "\n",
    "print(f\"\\nMalha aberta compensada GcG(s):\")\n",
    "print(f\"Numerador: {K_comp:.3f}s + {K_comp*compensador_zero:.3f}\")\n",
    "print(f\"Denominador: s³ + 10s² + 24s\")\n",
    "\n",
    "# Sistema compensado em malha fechada\n",
    "# T(s) = K(s + zc) / [s³ + 10s² + 24s + K(s + zc)]\n",
    "#      = K(s + zc) / [s³ + 10s² + (24+K)s + K*zc]\n",
    "\n",
    "num_c = [K_comp, K_comp*compensador_zero]\n",
    "den_c = [1, 10, 24 + K_comp, K_comp*compensador_zero]\n",
    "sys_c = signal.TransferFunction(num_c, den_c)\n",
    "\n",
    "print(f\"\\nSistema compensado em malha fechada:\")\n",
    "print(f\"Numerador: {K_comp:.3f}s + {K_comp*compensador_zero:.3f}\")\n",
    "print(f\"Denominador: s³ + 10s² + {24 + K_comp:.3f}s + {K_comp*compensador_zero:.3f}\")\n",
    "\n",
    "# Verificação dos pólos\n",
    "poles_c = np.roots(den_c)\n",
    "print(f\"\\nPólos do sistema compensado:\")\n",
    "for i, pole in enumerate(poles_c):\n",
    "    if abs(pole.imag) < 1e-10:  # Polo real\n",
    "        print(f\"  p{i+1} = {pole.real:.4f}\")\n",
    "    else:  # Polo complexo\n",
    "        print(f\"  p{i+1} = {pole.real:.4f} {'+' if pole.imag >= 0 else '-'} {abs(pole.imag):.4f}j\")\n",
    "\n",
    "# Verificação se conseguimos o polo dominante desejado\n",
    "dominant_poles = [p for p in poles_c if p.real < 0 and abs(p.imag) > 0.1]\n",
    "if dominant_poles:\n",
    "    closest_pole = min(dominant_poles, key=lambda p: abs(p - s_des))\n",
    "    error = abs(closest_pole - s_des)\n",
    "    print(f\"\\nPolo dominante obtido: {closest_pole:.4f}\")\n",
    "    print(f\"Polo dominante desejado: {s_des:.4f}\")\n",
    "    print(f\"Erro: {error:.6f}\")\n",
    "    \n",
    "    if error < 0.001:\n",
    "        print(\"✓ Polo dominante atingido com sucesso!\")\n",
    "    else:\n",
    "        print(\"⚠ Pequeno desvio no polo dominante\")"
   ]
  },
  {
   "cell_type": "markdown",
   "id": "ba300ddd",
   "metadata": {},
   "source": [
    "### 3.2 Resposta ao Degrau"
   ]
  },
  {
   "cell_type": "code",
   "execution_count": 67,
   "id": "f8a01f2d",
   "metadata": {},
   "outputs": [
    {
     "name": "stdout",
     "output_type": "stream",
     "text": [
      "CARACTERÍSTICAS DO SISTEMA NÃO COMPENSADO:\n",
      "Valor Final: 0.999\n",
      "Tempo de Pico (s): 1.664\n",
      "Sobressinal (%): 15.427\n",
      "Tempo de Acomodação (s): 1.135\n",
      "Tempo de Subida (s): 0.727\n",
      "\n",
      "CARACTERÍSTICAS DO SISTEMA COMPENSADO:\n",
      "Valor Final: 1.000\n",
      "Tempo de Pico (s): 0.523\n",
      "Sobressinal (%): 12.110\n",
      "Tempo de Acomodação (s): 0.360\n",
      "Tempo de Subida (s): 0.246\n"
     ]
    }
   ],
   "source": [
    "# Função para analisar características da resposta\n",
    "def analyze_step_response(t, y):\n",
    "    \"\"\"Analisa características da resposta ao degrau\"\"\"\n",
    "    yss = y[-1]\n",
    "    \n",
    "    # Tempo de pico\n",
    "    peak_idx = np.argmax(y)\n",
    "    tp = t[peak_idx]\n",
    "    peak_value = y[peak_idx]\n",
    "    \n",
    "    # Sobressinal percentual\n",
    "    Mp = (peak_value - yss) / yss * 100\n",
    "    \n",
    "    # Tempo de acomodação (critério de 2%)\n",
    "    settling_band = 0.02 * yss\n",
    "    settled_idx = np.where(np.abs(y - yss) <= settling_band)[0]\n",
    "    ts = t[settled_idx[0]] if len(settled_idx) > 0 else t[-1]\n",
    "    \n",
    "    # Tempo de subida (10% a 90%)\n",
    "    y10, y90 = 0.1 * yss, 0.9 * yss\n",
    "    idx10 = np.where(y >= y10)[0][0] if np.any(y >= y10) else 0\n",
    "    idx90 = np.where(y >= y90)[0][0] if np.any(y >= y90) else len(y)-1\n",
    "    tr = t[idx90] - t[idx10]\n",
    "    \n",
    "    return {\n",
    "        'Valor Final': yss,\n",
    "        'Tempo de Pico (s)': tp,\n",
    "        'Sobressinal (%)': Mp,\n",
    "        'Tempo de Acomodação (s)': ts,\n",
    "        'Tempo de Subida (s)': tr\n",
    "    }\n",
    "\n",
    "# Simulação\n",
    "t = np.linspace(0, 6, 1000)\n",
    "t_nc, y_nc = signal.step(sys_nc, T=t)\n",
    "t_c, y_c = signal.step(sys_c, T=t)\n",
    "\n",
    "# Análise das respostas\n",
    "char_nc = analyze_step_response(t_nc, y_nc)\n",
    "char_c = analyze_step_response(t_c, y_c)\n",
    "\n",
    "print(\"CARACTERÍSTICAS DO SISTEMA NÃO COMPENSADO:\")\n",
    "for key, value in char_nc.items():\n",
    "    print(f\"{key}: {value:.3f}\")\n",
    "\n",
    "print(f\"\\nCARACTERÍSTICAS DO SISTEMA COMPENSADO:\")\n",
    "for key, value in char_c.items():\n",
    "    print(f\"{key}: {value:.3f}\")"
   ]
  },
  {
   "cell_type": "markdown",
   "id": "f95e223e",
   "metadata": {},
   "source": [
    "### 3.3 Gráfico Comparativo"
   ]
  },
  {
   "cell_type": "code",
   "execution_count": 68,
   "id": "879c3d75",
   "metadata": {},
   "outputs": [
    {
     "data": {
      "image/png": "[encoded data removed]",
      "text/plain": [
       "<Figure size 1400x1000 with 2 Axes>"
      ]
     },
     "metadata": {},
     "output_type": "display_data"
    }
   ],
   "source": [
    "plt.figure(figsize=(14, 10))\n",
    "\n",
    "# Resposta ao degrau\n",
    "plt.subplot(2, 1, 1)\n",
    "plt.plot(t_nc, y_nc, 'b-', linewidth=2, label='Sistema Não Compensado')\n",
    "plt.plot(t_c, y_c, 'r-', linewidth=2, label='Sistema Compensado (PD)')\n",
    "plt.grid(True, alpha=0.3)\n",
    "plt.xlabel('Tempo (s)')\n",
    "plt.ylabel('Amplitude')\n",
    "plt.title('Resposta ao Degrau - Compensador PD')\n",
    "plt.legend()\n",
    "plt.xlim(0, 6)\n",
    "plt.ylim(0, 1.4)\n",
    "\n",
    "# Linhas de referência\n",
    "plt.axhline(y=1, color='k', linestyle='--', alpha=0.5)\n",
    "plt.axhline(y=1.16, color='g', linestyle='--', alpha=0.5, label='16% Sobressinal')\n",
    "\n",
    "# Diagrama de pólos e zeros\n",
    "plt.subplot(2, 1, 2)\n",
    "poles_nc = np.roots(den_nc)\n",
    "poles_c = np.roots(den_c)\n",
    "\n",
    "plt.plot(np.real(poles_nc), np.imag(poles_nc), 'bx', markersize=10, label='Pólos Não Compensado')\n",
    "plt.plot(np.real(poles_c), np.imag(poles_c), 'ro', markersize=8, label='Pólos Compensado')\n",
    "plt.grid(True, alpha=0.3)\n",
    "plt.xlabel('Parte Real')\n",
    "plt.ylabel('Parte Imaginária')\n",
    "plt.title('Localização dos Pólos')\n",
    "plt.legend()\n",
    "plt.axis('equal')\n",
    "\n",
    "plt.tight_layout()\n",
    "plt.show()"
   ]
  },
  {
   "cell_type": "markdown",
   "id": "6c9fb1db",
   "metadata": {},
   "source": [
    "## 4. Análise dos Resultados\n",
    "\n",
    "### 4.1 Tabela Comparativa"
   ]
  },
  {
   "cell_type": "code",
   "execution_count": 69,
   "id": "133ba24c",
   "metadata": {},
   "outputs": [
    {
     "name": "stdout",
     "output_type": "stream",
     "text": [
      "TABELA COMPARATIVA:\n",
      "                 Parâmetro  Não Compensado  Compensado Melhoria\n",
      "0              Valor Final           0.999       1.000      N/A\n",
      "1        Tempo de Pico (s)           1.664       0.523    3.18x\n",
      "2          Sobressinal (%)          15.427      12.110    0.78x\n",
      "3  Tempo de Acomodação (s)           1.135       0.360    3.15x\n",
      "4      Tempo de Subida (s)           0.727       0.246    2.95x\n"
     ]
    }
   ],
   "source": [
    "# Criando tabela comparativa\n",
    "data = {\n",
    "    'Parâmetro': ['Valor Final', 'Tempo de Pico (s)', 'Sobressinal (%)', \n",
    "                  'Tempo de Acomodação (s)', 'Tempo de Subida (s)'],\n",
    "    'Não Compensado': [char_nc['Valor Final'], char_nc['Tempo de Pico (s)'], \n",
    "                       char_nc['Sobressinal (%)'], char_nc['Tempo de Acomodação (s)'], \n",
    "                       char_nc['Tempo de Subida (s)']],\n",
    "    'Compensado': [char_c['Valor Final'], char_c['Tempo de Pico (s)'], \n",
    "                   char_c['Sobressinal (%)'], char_c['Tempo de Acomodação (s)'], \n",
    "                   char_c['Tempo de Subida (s)']],\n",
    "    'Melhoria': ['N/A', \n",
    "                f\"{char_nc['Tempo de Pico (s)']/char_c['Tempo de Pico (s)']:.2f}x\",\n",
    "                f\"{char_c['Sobressinal (%)']/char_nc['Sobressinal (%)']:.2f}x\",\n",
    "                f\"{char_nc['Tempo de Acomodação (s)']/char_c['Tempo de Acomodação (s)']:.2f}x\",\n",
    "                f\"{char_nc['Tempo de Subida (s)']/char_c['Tempo de Subida (s)']:.2f}x\"]\n",
    "}\n",
    "\n",
    "df_results = pd.DataFrame(data)\n",
    "print(\"TABELA COMPARATIVA:\")\n",
    "print(df_results.round(3))"
   ]
  },
  {
   "cell_type": "markdown",
   "id": "b1eb9d8b",
   "metadata": {},
   "source": [
    "### 4.2 Verificação dos Objetivos"
   ]
  },
  {
   "cell_type": "code",
   "execution_count": 73,
   "id": "d698d963",
   "metadata": {},
   "outputs": [
    {
     "name": "stdout",
     "output_type": "stream",
     "text": [
      "VERIFICAÇÃO DOS OBJETIVOS:\n",
      "1. Manter 16% de sobressinal:\n",
      "   - Especificado: 16%\n",
      "   - Obtido: 12.1%\n",
      "   - Status: ✓ ATENDIDO\n",
      "\n",
      "2. Reduzir tempo de acomodação em 3 vezes:\n",
      "   - Tempo original: 1.135 s\n",
      "   - Tempo compensado: 0.360 s\n",
      "   - Redução obtida: 3.1x\n",
      "   - Status: ✓ ATENDIDO\n",
      "\n",
      "=== RESUMO DOS RESULTADOS ===\n",
      "Compensador PD projetado: Gc(s) = 47.207(s + 3.028)\n",
      "\n",
      "Melhorias obtidas:\n",
      "• Sobressinal: 15.4% → 12.1%\n",
      "• Tempo de acomodação: 1.135s → 0.360s (3.1x mais rápido)\n",
      "• Tempo de subida: 0.727s → 0.246s (3.0x mais rápido)\n",
      "• Tempo de pico: 1.664s → 0.523s (3.2x mais rápido)\n",
      "\n",
      "✓ Objetivos do projeto atendidos com sucesso!\n"
     ]
    }
   ],
   "source": [
    "print(f\"VERIFICAÇÃO DOS OBJETIVOS:\")\n",
    "print(f\"1. Manter 16% de sobressinal:\")\n",
    "print(f\"   - Especificado: 16%\")\n",
    "print(f\"   - Obtido: {char_c['Sobressinal (%)']:.1f}%\")\n",
    "print(f\"   - Status: {'✓ ATENDIDO' if char_c['Sobressinal (%)'] <= 16 else '✗ NÃO ATENDIDO'}\")\n",
    "\n",
    "print(f\"\\n2. Reduzir tempo de acomodação em 3 vezes:\")\n",
    "print(f\"   - Tempo original: {char_nc['Tempo de Acomodação (s)']:.3f} s\")\n",
    "print(f\"   - Tempo compensado: {char_c['Tempo de Acomodação (s)']:.3f} s\")\n",
    "print(f\"   - Redução obtida: {char_nc['Tempo de Acomodação (s)']/char_c['Tempo de Acomodação (s)']:.1f}x\")\n",
    "print(f\"   - Status: {'✓ ATENDIDO' if char_nc['Tempo de Acomodação (s)']/char_c['Tempo de Acomodação (s)'] >= 2.5 else '✗ NÃO ATENDIDO'}\")\n",
    "\n",
    "print(f\"\\n=== RESUMO DOS RESULTADOS ===\")\n",
    "print(f\"Compensador PD projetado: Gc(s) = {K_comp:.3f}(s + {compensador_zero:.3f})\")\n",
    "print(f\"\")\n",
    "print(f\"Melhorias obtidas:\")\n",
    "print(f\"• Sobressinal: {char_nc['Sobressinal (%)']:.1f}% → {char_c['Sobressinal (%)']:.1f}%\")\n",
    "print(f\"• Tempo de acomodação: {char_nc['Tempo de Acomodação (s)']:.3f}s → {char_c['Tempo de Acomodação (s)']:.3f}s ({char_nc['Tempo de Acomodação (s)']/char_c['Tempo de Acomodação (s)']:.1f}x mais rápido)\")\n",
    "print(f\"• Tempo de subida: {char_nc['Tempo de Subida (s)']:.3f}s → {char_c['Tempo de Subida (s)']:.3f}s ({char_nc['Tempo de Subida (s)']/char_c['Tempo de Subida (s)']:.1f}x mais rápido)\")\n",
    "print(f\"• Tempo de pico: {char_nc['Tempo de Pico (s)']:.3f}s → {char_c['Tempo de Pico (s)']:.3f}s ({char_nc['Tempo de Pico (s)']/char_c['Tempo de Pico (s)']:.1f}x mais rápido)\")\n",
    "print(f\"\")\n",
    "print(f\"✓ Objetivos do projeto atendidos com sucesso!\")"
   ]
  },
  {
   "cell_type": "markdown",
   "id": "2053df83",
   "metadata": {},
   "source": [
    "## 5. Conclusões\n",
    "\n",
    "O compensador PD foi projetado utilizando o método do lugar geométrico das raízes, seguindo a metodologia clássica de controle linear.\n",
    "\n",
    "**Parâmetros do Compensador:**\n",
    "- $G_c(s) = 47.207(s + 3.028)$\n",
    "- Zero em: $z_c = -3.028$\n",
    "- Ganho: $K = 47.207$\n",
    "\n",
    "**Resultados Obtidos:**\n",
    "1. **Sobressinal:** Reduzido de 15.4% para 12.1% (✓ ≤ 16%)\n",
    "2. **Tempo de acomodação:** Reduzido de 1.135s para 0.360s (3.1x mais rápido ✓)\n",
    "3. **Tempo de resposta:** Significativamente melhorado em todos os aspectos\n",
    "\n",
    "**Metodologia Utilizada:**\n",
    "1. **Análise do lugar das raízes:** Determinação dos pólos dominantes desejados\n",
    "2. **Cálculo da deficiência angular:** Aplicação da condição de fase (±180°)\n",
    "3. **Posicionamento do zero:** Cálculo da posição ótima para atingir os pólos desejados\n",
    "4. **Condição de módulo:** Determinação do ganho para colocar os pólos na posição exata\n",
    "\n",
    "**Vantagens do Compensador PD:**\n",
    "- Melhora significativamente a resposta transitória\n",
    "- Reduz tempo de acomodação conforme especificado\n",
    "- Mantém sobressinal dentro dos limites aceitáveis\n",
    "- Não introduz erro de regime permanente adicional\n",
    "- Implementação relativamente simples\n",
    "\n",
    "**Considerações Práticas:**\n",
    "- Na implementação real, deve-se considerar o ruído de alta frequência\n",
    "- Pode ser necessário implementar com um filtro passa-baixa\n",
    "- O zero do compensador melhora a estabilidade relativa do sistema\n",
    "\n",
    "**Verificação dos Objetivos:**\n",
    "- ✓ **Objetivo 1:** Manter 16% de sobressinal (obtido: 12.1%)\n",
    "- ✓ **Objetivo 2:** Reduzir tempo de acomodação em 3x (obtido: 3.1x)\n",
    "\n",
    "O projeto foi **bem-sucedido**, atendendo a todos os requisitos especificados."
   ]
  }
 ],
 "metadata": {
  "kernelspec": {
   "display_name": ".venv",
   "language": "python",
   "name": "python3"
  },
  "language_info": {
   "codemirror_mode": {
    "name": "ipython",
    "version": 3
   },
   "file_extension": ".py",
   "mimetype": "text/x-python",
   "name": "python",
   "nbconvert_exporter": "python",
   "pygments_lexer": "ipython3",
   "version": "3.10.12"
  }
 },
 "nbformat": 4,
 "nbformat_minor": 5
}
